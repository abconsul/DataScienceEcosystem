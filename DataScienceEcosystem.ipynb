{
 "cells": [
  {
   "cell_type": "markdown",
   "id": "be8780f1-87c5-4040-b2a8-d3df017253a9",
   "metadata": {
    "tags": []
   },
   "source": [
    "# Data Science Tools and Ecosystem"
   ]
  },
  {
   "cell_type": "markdown",
   "id": "2d29cc51-2247-429d-a329-a62765aba29d",
   "metadata": {},
   "source": [
    "## Author: Audrey Consul"
   ]
  },
  {
   "cell_type": "markdown",
   "id": "2fcc2c49-6b69-43fd-a2e3-e931d48d2f0a",
   "metadata": {},
   "source": [
    "In this notebook, Data Science Tools and Ecosystem are summarized."
   ]
  },
  {
   "cell_type": "markdown",
   "id": "6893703c-9707-47e0-b20d-2ae7afb69216",
   "metadata": {},
   "source": [
    "**Objectives:**\n",
    "- List popular languages \n",
    "- List commonly used libraries\n",
    "- Evaluate arithmetic expressions in Python "
   ]
  },
  {
   "cell_type": "markdown",
   "id": "65885555-5069-4e0e-892d-133dc90660fa",
   "metadata": {
    "tags": []
   },
   "source": [
    "Some of the popular languages that Data Scientists use are:\n",
    "1. Python\n",
    "2. R\n",
    "3. SQL"
   ]
  },
  {
   "cell_type": "markdown",
   "id": "ad1c86fd-3276-4261-8184-840ea14e922c",
   "metadata": {},
   "source": [
    "Some of the commonly used libraries used by Data Scientists include:\n",
    "1. NumPy\n",
    "2. Keras\n",
    "3. Pandas"
   ]
  },
  {
   "cell_type": "markdown",
   "id": "d867eeb3-046b-474b-b063-45f61eda4df8",
   "metadata": {},
   "source": [
    "| Data Science Tools|\n",
    "|------|\n",
    "| RStudio |\n",
    "|Apache Spark |\n",
    "|Tensor Flow |"
   ]
  },
  {
   "cell_type": "markdown",
   "id": "1543086a-7064-47c5-ba41-644c5ebc0dbd",
   "metadata": {},
   "source": [
    "### Below are a few examples of evaluating arithmetic expressions in Python"
   ]
  },
  {
   "cell_type": "code",
   "execution_count": 10,
   "id": "9fc48a9d-4059-45d9-a17d-e80eac2ede2b",
   "metadata": {
    "tags": []
   },
   "outputs": [
    {
     "data": {
      "text/plain": [
       "17"
      ]
     },
     "execution_count": 10,
     "metadata": {},
     "output_type": "execute_result"
    }
   ],
   "source": [
    "##This a simple arithmetic expression to mutiply then add integers.\n",
    "(3*4)+5"
   ]
  },
  {
   "cell_type": "code",
   "execution_count": 11,
   "id": "8cd2cbc7-4fe8-4225-bc42-d6fda5d82c5b",
   "metadata": {
    "tags": []
   },
   "outputs": [
    {
     "data": {
      "text/plain": [
       "3.3333333333333335"
      ]
     },
     "execution_count": 11,
     "metadata": {},
     "output_type": "execute_result"
    }
   ],
   "source": [
    "##This will convert 200 minutes to hours by diving by 60\n",
    "200/60"
   ]
  }
 ],
 "metadata": {
  "kernelspec": {
   "display_name": "Python",
   "language": "python",
   "name": "conda-env-python-py"
  },
  "language_info": {
   "codemirror_mode": {
    "name": "ipython",
    "version": 3
   },
   "file_extension": ".py",
   "mimetype": "text/x-python",
   "name": "python",
   "nbconvert_exporter": "python",
   "pygments_lexer": "ipython3",
   "version": "3.7.12"
  }
 },
 "nbformat": 4,
 "nbformat_minor": 5
}
